{
 "cells": [
  {
   "cell_type": "code",
   "execution_count": 103,
   "id": "aaf7c807",
   "metadata": {},
   "outputs": [],
   "source": [
    "from alpha_vantage.timeseries import TimeSeries\n",
    "import pandas as pd\n",
    "import numpy\n",
    "import matplotlib.pyplot as plt\n",
    "import plotly.graph_objects as go\n",
    "import plotly.express as px\n",
    "API_KEY=\"GO143LK4E3VERLLK\""
   ]
  },
  {
   "cell_type": "code",
   "execution_count": 104,
   "id": "b2f20404",
   "metadata": {},
   "outputs": [],
   "source": [
    "class ScriptData:\n",
    "    #Initialize data frame to store various stock data\n",
    "    def __init__(self):\n",
    "        self.df_list={}\n",
    "        pass\n",
    "    \n",
    "    #Fetches intraday for given script\n",
    "    def fetch_intraday_data(self,script):\n",
    "        ts = TimeSeries(key=API_KEY)\n",
    "        df, meta_data = ts.get_intraday(symbol=script,interval='60min', outputsize='compact')\n",
    "        self.df_list[script]=df\n",
    "        return df\n",
    "    \n",
    "    #Converts fetched intraday data\n",
    "    def convert_intraday_data(self,script):\n",
    "        df=pd.DataFrame.from_dict(self.df_list[script], orient ='index') \n",
    "        df.reset_index(inplace=True)\n",
    "        df = df.rename(columns = {'index':'timestamp'})\n",
    "        df = df.rename(columns = {'1. open':'open'})\n",
    "        df = df.rename(columns = {'2. high':'high'})\n",
    "        df = df.rename(columns = {'3. low':'low'})\n",
    "        df = df.rename(columns = {'4. close':'close'})\n",
    "        df = df.rename(columns = {'5. volume':'volume'})\n",
    "        df['timestamp'] = pd.to_datetime(df['timestamp'])\n",
    "        df['open'] = df['open'].astype(float)\n",
    "        df['high'] = df['high'].astype(float)\n",
    "        df['low'] = df['low'].astype(float)\n",
    "        df['close'] = df['close'].astype(float)\n",
    "        df['volume'] = df['volume'].astype(int)\n",
    "        df=df.loc[::-1].reset_index(drop=True)\n",
    "        self.df_list[script]=df\n",
    "        return df\n",
    "    \n",
    "    #To return script data\n",
    "    def __getitem__(self,script):\n",
    "        return self.df_list[script]\n",
    "    \n",
    "    #To check if script in object\n",
    "    def __contains__(self, script):\n",
    "        return script in self.df_list\n",
    "\n",
    "    \n",
    "    "
   ]
  },
  {
   "cell_type": "code",
   "execution_count": 105,
   "id": "cdcf3bb3",
   "metadata": {},
   "outputs": [
    {
     "data": {
      "text/html": [
       "<div>\n",
       "<style scoped>\n",
       "    .dataframe tbody tr th:only-of-type {\n",
       "        vertical-align: middle;\n",
       "    }\n",
       "\n",
       "    .dataframe tbody tr th {\n",
       "        vertical-align: top;\n",
       "    }\n",
       "\n",
       "    .dataframe thead th {\n",
       "        text-align: right;\n",
       "    }\n",
       "</style>\n",
       "<table border=\"1\" class=\"dataframe\">\n",
       "  <thead>\n",
       "    <tr style=\"text-align: right;\">\n",
       "      <th></th>\n",
       "      <th>timestamp</th>\n",
       "      <th>open</th>\n",
       "      <th>high</th>\n",
       "      <th>low</th>\n",
       "      <th>close</th>\n",
       "      <th>volume</th>\n",
       "    </tr>\n",
       "  </thead>\n",
       "  <tbody>\n",
       "    <tr>\n",
       "      <th>0</th>\n",
       "      <td>2022-12-21 17:00:00</td>\n",
       "      <td>89.5800</td>\n",
       "      <td>89.8000</td>\n",
       "      <td>89.55</td>\n",
       "      <td>89.6200</td>\n",
       "      <td>1596119</td>\n",
       "    </tr>\n",
       "    <tr>\n",
       "      <th>1</th>\n",
       "      <td>2022-12-21 18:00:00</td>\n",
       "      <td>89.7100</td>\n",
       "      <td>89.7900</td>\n",
       "      <td>89.66</td>\n",
       "      <td>89.7500</td>\n",
       "      <td>4156</td>\n",
       "    </tr>\n",
       "    <tr>\n",
       "      <th>2</th>\n",
       "      <td>2022-12-21 19:00:00</td>\n",
       "      <td>89.7500</td>\n",
       "      <td>89.7900</td>\n",
       "      <td>89.60</td>\n",
       "      <td>89.7700</td>\n",
       "      <td>7033</td>\n",
       "    </tr>\n",
       "    <tr>\n",
       "      <th>3</th>\n",
       "      <td>2022-12-21 20:00:00</td>\n",
       "      <td>89.7000</td>\n",
       "      <td>89.7700</td>\n",
       "      <td>89.62</td>\n",
       "      <td>89.7700</td>\n",
       "      <td>8787</td>\n",
       "    </tr>\n",
       "    <tr>\n",
       "      <th>4</th>\n",
       "      <td>2022-12-22 05:00:00</td>\n",
       "      <td>89.8600</td>\n",
       "      <td>89.8600</td>\n",
       "      <td>89.70</td>\n",
       "      <td>89.7000</td>\n",
       "      <td>5285</td>\n",
       "    </tr>\n",
       "    <tr>\n",
       "      <th>...</th>\n",
       "      <td>...</td>\n",
       "      <td>...</td>\n",
       "      <td>...</td>\n",
       "      <td>...</td>\n",
       "      <td>...</td>\n",
       "      <td>...</td>\n",
       "    </tr>\n",
       "    <tr>\n",
       "      <th>95</th>\n",
       "      <td>2022-12-30 16:00:00</td>\n",
       "      <td>87.2050</td>\n",
       "      <td>88.3000</td>\n",
       "      <td>87.20</td>\n",
       "      <td>88.2400</td>\n",
       "      <td>5183569</td>\n",
       "    </tr>\n",
       "    <tr>\n",
       "      <th>96</th>\n",
       "      <td>2022-12-30 17:00:00</td>\n",
       "      <td>88.2300</td>\n",
       "      <td>88.7400</td>\n",
       "      <td>88.22</td>\n",
       "      <td>88.5000</td>\n",
       "      <td>1038000</td>\n",
       "    </tr>\n",
       "    <tr>\n",
       "      <th>97</th>\n",
       "      <td>2022-12-30 18:00:00</td>\n",
       "      <td>88.4815</td>\n",
       "      <td>88.4815</td>\n",
       "      <td>88.36</td>\n",
       "      <td>88.4199</td>\n",
       "      <td>7066</td>\n",
       "    </tr>\n",
       "    <tr>\n",
       "      <th>98</th>\n",
       "      <td>2022-12-30 19:00:00</td>\n",
       "      <td>88.3600</td>\n",
       "      <td>88.4500</td>\n",
       "      <td>88.35</td>\n",
       "      <td>88.4000</td>\n",
       "      <td>13286</td>\n",
       "    </tr>\n",
       "    <tr>\n",
       "      <th>99</th>\n",
       "      <td>2022-12-30 20:00:00</td>\n",
       "      <td>88.4600</td>\n",
       "      <td>88.5700</td>\n",
       "      <td>88.45</td>\n",
       "      <td>88.5500</td>\n",
       "      <td>6460</td>\n",
       "    </tr>\n",
       "  </tbody>\n",
       "</table>\n",
       "<p>100 rows × 6 columns</p>\n",
       "</div>"
      ],
      "text/plain": [
       "             timestamp     open     high    low    close   volume\n",
       "0  2022-12-21 17:00:00  89.5800  89.8000  89.55  89.6200  1596119\n",
       "1  2022-12-21 18:00:00  89.7100  89.7900  89.66  89.7500     4156\n",
       "2  2022-12-21 19:00:00  89.7500  89.7900  89.60  89.7700     7033\n",
       "3  2022-12-21 20:00:00  89.7000  89.7700  89.62  89.7700     8787\n",
       "4  2022-12-22 05:00:00  89.8600  89.8600  89.70  89.7000     5285\n",
       "..                 ...      ...      ...    ...      ...      ...\n",
       "95 2022-12-30 16:00:00  87.2050  88.3000  87.20  88.2400  5183569\n",
       "96 2022-12-30 17:00:00  88.2300  88.7400  88.22  88.5000  1038000\n",
       "97 2022-12-30 18:00:00  88.4815  88.4815  88.36  88.4199     7066\n",
       "98 2022-12-30 19:00:00  88.3600  88.4500  88.35  88.4000    13286\n",
       "99 2022-12-30 20:00:00  88.4600  88.5700  88.45  88.5500     6460\n",
       "\n",
       "[100 rows x 6 columns]"
      ]
     },
     "execution_count": 105,
     "metadata": {},
     "output_type": "execute_result"
    }
   ],
   "source": [
    "script_data=ScriptData()\n",
    "script_data.fetch_intraday_data('GOOGL')\n",
    "script_data.convert_intraday_data('GOOGL')\n",
    "script_data['GOOGL']"
   ]
  },
  {
   "cell_type": "code",
   "execution_count": 106,
   "id": "d742723b",
   "metadata": {},
   "outputs": [
    {
     "data": {
      "text/html": [
       "<div>\n",
       "<style scoped>\n",
       "    .dataframe tbody tr th:only-of-type {\n",
       "        vertical-align: middle;\n",
       "    }\n",
       "\n",
       "    .dataframe tbody tr th {\n",
       "        vertical-align: top;\n",
       "    }\n",
       "\n",
       "    .dataframe thead th {\n",
       "        text-align: right;\n",
       "    }\n",
       "</style>\n",
       "<table border=\"1\" class=\"dataframe\">\n",
       "  <thead>\n",
       "    <tr style=\"text-align: right;\">\n",
       "      <th></th>\n",
       "      <th>timestamp</th>\n",
       "      <th>open</th>\n",
       "      <th>high</th>\n",
       "      <th>low</th>\n",
       "      <th>close</th>\n",
       "      <th>volume</th>\n",
       "    </tr>\n",
       "  </thead>\n",
       "  <tbody>\n",
       "    <tr>\n",
       "      <th>0</th>\n",
       "      <td>2022-12-21 17:00:00</td>\n",
       "      <td>135.2790</td>\n",
       "      <td>135.5586</td>\n",
       "      <td>134.6498</td>\n",
       "      <td>135.4188</td>\n",
       "      <td>5399794</td>\n",
       "    </tr>\n",
       "    <tr>\n",
       "      <th>1</th>\n",
       "      <td>2022-12-21 18:00:00</td>\n",
       "      <td>135.4088</td>\n",
       "      <td>135.4887</td>\n",
       "      <td>135.3289</td>\n",
       "      <td>135.4887</td>\n",
       "      <td>43032</td>\n",
       "    </tr>\n",
       "    <tr>\n",
       "      <th>2</th>\n",
       "      <td>2022-12-21 19:00:00</td>\n",
       "      <td>135.4987</td>\n",
       "      <td>135.5287</td>\n",
       "      <td>135.3888</td>\n",
       "      <td>135.4588</td>\n",
       "      <td>42909</td>\n",
       "    </tr>\n",
       "    <tr>\n",
       "      <th>3</th>\n",
       "      <td>2022-12-21 20:00:00</td>\n",
       "      <td>135.4588</td>\n",
       "      <td>135.5586</td>\n",
       "      <td>135.3389</td>\n",
       "      <td>135.4987</td>\n",
       "      <td>40192</td>\n",
       "    </tr>\n",
       "    <tr>\n",
       "      <th>4</th>\n",
       "      <td>2022-12-22 05:00:00</td>\n",
       "      <td>135.7783</td>\n",
       "      <td>135.7783</td>\n",
       "      <td>135.2790</td>\n",
       "      <td>135.2790</td>\n",
       "      <td>21403</td>\n",
       "    </tr>\n",
       "    <tr>\n",
       "      <th>...</th>\n",
       "      <td>...</td>\n",
       "      <td>...</td>\n",
       "      <td>...</td>\n",
       "      <td>...</td>\n",
       "      <td>...</td>\n",
       "      <td>...</td>\n",
       "    </tr>\n",
       "    <tr>\n",
       "      <th>95</th>\n",
       "      <td>2022-12-30 16:00:00</td>\n",
       "      <td>128.2800</td>\n",
       "      <td>129.9500</td>\n",
       "      <td>128.2550</td>\n",
       "      <td>129.9100</td>\n",
       "      <td>16425305</td>\n",
       "    </tr>\n",
       "    <tr>\n",
       "      <th>96</th>\n",
       "      <td>2022-12-30 17:00:00</td>\n",
       "      <td>129.9100</td>\n",
       "      <td>130.0500</td>\n",
       "      <td>129.7800</td>\n",
       "      <td>129.9900</td>\n",
       "      <td>2235326</td>\n",
       "    </tr>\n",
       "    <tr>\n",
       "      <th>97</th>\n",
       "      <td>2022-12-30 18:00:00</td>\n",
       "      <td>130.0000</td>\n",
       "      <td>130.0500</td>\n",
       "      <td>129.9100</td>\n",
       "      <td>129.9487</td>\n",
       "      <td>76786</td>\n",
       "    </tr>\n",
       "    <tr>\n",
       "      <th>98</th>\n",
       "      <td>2022-12-30 19:00:00</td>\n",
       "      <td>129.9500</td>\n",
       "      <td>130.0500</td>\n",
       "      <td>129.9400</td>\n",
       "      <td>130.0100</td>\n",
       "      <td>35882</td>\n",
       "    </tr>\n",
       "    <tr>\n",
       "      <th>99</th>\n",
       "      <td>2022-12-30 20:00:00</td>\n",
       "      <td>129.9900</td>\n",
       "      <td>130.0400</td>\n",
       "      <td>129.9700</td>\n",
       "      <td>129.9700</td>\n",
       "      <td>40761</td>\n",
       "    </tr>\n",
       "  </tbody>\n",
       "</table>\n",
       "<p>100 rows × 6 columns</p>\n",
       "</div>"
      ],
      "text/plain": [
       "             timestamp      open      high       low     close    volume\n",
       "0  2022-12-21 17:00:00  135.2790  135.5586  134.6498  135.4188   5399794\n",
       "1  2022-12-21 18:00:00  135.4088  135.4887  135.3289  135.4887     43032\n",
       "2  2022-12-21 19:00:00  135.4987  135.5287  135.3888  135.4588     42909\n",
       "3  2022-12-21 20:00:00  135.4588  135.5586  135.3389  135.4987     40192\n",
       "4  2022-12-22 05:00:00  135.7783  135.7783  135.2790  135.2790     21403\n",
       "..                 ...       ...       ...       ...       ...       ...\n",
       "95 2022-12-30 16:00:00  128.2800  129.9500  128.2550  129.9100  16425305\n",
       "96 2022-12-30 17:00:00  129.9100  130.0500  129.7800  129.9900   2235326\n",
       "97 2022-12-30 18:00:00  130.0000  130.0500  129.9100  129.9487     76786\n",
       "98 2022-12-30 19:00:00  129.9500  130.0500  129.9400  130.0100     35882\n",
       "99 2022-12-30 20:00:00  129.9900  130.0400  129.9700  129.9700     40761\n",
       "\n",
       "[100 rows x 6 columns]"
      ]
     },
     "execution_count": 106,
     "metadata": {},
     "output_type": "execute_result"
    }
   ],
   "source": [
    "script_data.fetch_intraday_data('AAPL')\n",
    "script_data.convert_intraday_data('AAPL')\n",
    "script_data['AAPL']"
   ]
  },
  {
   "cell_type": "code",
   "execution_count": 107,
   "id": "9e883f2d",
   "metadata": {},
   "outputs": [
    {
     "data": {
      "text/plain": [
       "True"
      ]
     },
     "execution_count": 107,
     "metadata": {},
     "output_type": "execute_result"
    }
   ],
   "source": [
    "'GOOGL' in script_data"
   ]
  },
  {
   "cell_type": "code",
   "execution_count": 108,
   "id": "d37bc854",
   "metadata": {},
   "outputs": [
    {
     "data": {
      "text/plain": [
       "True"
      ]
     },
     "execution_count": 108,
     "metadata": {},
     "output_type": "execute_result"
    }
   ],
   "source": [
    "'AAPL' in script_data"
   ]
  },
  {
   "cell_type": "code",
   "execution_count": 109,
   "id": "83c6e77e",
   "metadata": {},
   "outputs": [
    {
     "data": {
      "text/plain": [
       "False"
      ]
     },
     "execution_count": 109,
     "metadata": {},
     "output_type": "execute_result"
    }
   ],
   "source": [
    "'NVDA' in script_data"
   ]
  },
  {
   "cell_type": "code",
   "execution_count": 110,
   "id": "f706a563",
   "metadata": {},
   "outputs": [],
   "source": [
    "def indicator1(df, timeperiod):\n",
    "    size= len(df.index)\n",
    "    indicator = [numpy.nan for x in range(timeperiod-1)]\n",
    "    i = timeperiod\n",
    "    while i<= size:\n",
    "        indicator.append((df.iloc[i-timeperiod:i,[4]].sum()/timeperiod)[0])\n",
    "        i=i+1\n",
    "    df['indicator1']=indicator\n",
    "    df = df[['timestamp','indicator1']]\n",
    "    return df"
   ]
  },
  {
   "cell_type": "code",
   "execution_count": 111,
   "id": "c461bb96",
   "metadata": {},
   "outputs": [
    {
     "data": {
      "text/html": [
       "<div>\n",
       "<style scoped>\n",
       "    .dataframe tbody tr th:only-of-type {\n",
       "        vertical-align: middle;\n",
       "    }\n",
       "\n",
       "    .dataframe tbody tr th {\n",
       "        vertical-align: top;\n",
       "    }\n",
       "\n",
       "    .dataframe thead th {\n",
       "        text-align: right;\n",
       "    }\n",
       "</style>\n",
       "<table border=\"1\" class=\"dataframe\">\n",
       "  <thead>\n",
       "    <tr style=\"text-align: right;\">\n",
       "      <th></th>\n",
       "      <th>timestamp</th>\n",
       "      <th>indicator1</th>\n",
       "    </tr>\n",
       "  </thead>\n",
       "  <tbody>\n",
       "    <tr>\n",
       "      <th>0</th>\n",
       "      <td>2022-12-21 17:00:00</td>\n",
       "      <td>NaN</td>\n",
       "    </tr>\n",
       "    <tr>\n",
       "      <th>1</th>\n",
       "      <td>2022-12-21 18:00:00</td>\n",
       "      <td>89.68500</td>\n",
       "    </tr>\n",
       "    <tr>\n",
       "      <th>2</th>\n",
       "      <td>2022-12-21 19:00:00</td>\n",
       "      <td>89.76000</td>\n",
       "    </tr>\n",
       "    <tr>\n",
       "      <th>3</th>\n",
       "      <td>2022-12-21 20:00:00</td>\n",
       "      <td>89.77000</td>\n",
       "    </tr>\n",
       "    <tr>\n",
       "      <th>4</th>\n",
       "      <td>2022-12-22 05:00:00</td>\n",
       "      <td>89.73500</td>\n",
       "    </tr>\n",
       "    <tr>\n",
       "      <th>...</th>\n",
       "      <td>...</td>\n",
       "      <td>...</td>\n",
       "    </tr>\n",
       "    <tr>\n",
       "      <th>95</th>\n",
       "      <td>2022-12-30 16:00:00</td>\n",
       "      <td>87.72250</td>\n",
       "    </tr>\n",
       "    <tr>\n",
       "      <th>96</th>\n",
       "      <td>2022-12-30 17:00:00</td>\n",
       "      <td>88.37000</td>\n",
       "    </tr>\n",
       "    <tr>\n",
       "      <th>97</th>\n",
       "      <td>2022-12-30 18:00:00</td>\n",
       "      <td>88.45995</td>\n",
       "    </tr>\n",
       "    <tr>\n",
       "      <th>98</th>\n",
       "      <td>2022-12-30 19:00:00</td>\n",
       "      <td>88.40995</td>\n",
       "    </tr>\n",
       "    <tr>\n",
       "      <th>99</th>\n",
       "      <td>2022-12-30 20:00:00</td>\n",
       "      <td>88.47500</td>\n",
       "    </tr>\n",
       "  </tbody>\n",
       "</table>\n",
       "<p>100 rows × 2 columns</p>\n",
       "</div>"
      ],
      "text/plain": [
       "             timestamp  indicator1\n",
       "0  2022-12-21 17:00:00         NaN\n",
       "1  2022-12-21 18:00:00    89.68500\n",
       "2  2022-12-21 19:00:00    89.76000\n",
       "3  2022-12-21 20:00:00    89.77000\n",
       "4  2022-12-22 05:00:00    89.73500\n",
       "..                 ...         ...\n",
       "95 2022-12-30 16:00:00    87.72250\n",
       "96 2022-12-30 17:00:00    88.37000\n",
       "97 2022-12-30 18:00:00    88.45995\n",
       "98 2022-12-30 19:00:00    88.40995\n",
       "99 2022-12-30 20:00:00    88.47500\n",
       "\n",
       "[100 rows x 2 columns]"
      ]
     },
     "execution_count": 111,
     "metadata": {},
     "output_type": "execute_result"
    }
   ],
   "source": [
    "indicator1(script_data['GOOGL'], 2)"
   ]
  },
  {
   "cell_type": "code",
   "execution_count": 112,
   "id": "a6175c17",
   "metadata": {},
   "outputs": [
    {
     "data": {
      "text/html": [
       "<div>\n",
       "<style scoped>\n",
       "    .dataframe tbody tr th:only-of-type {\n",
       "        vertical-align: middle;\n",
       "    }\n",
       "\n",
       "    .dataframe tbody tr th {\n",
       "        vertical-align: top;\n",
       "    }\n",
       "\n",
       "    .dataframe thead th {\n",
       "        text-align: right;\n",
       "    }\n",
       "</style>\n",
       "<table border=\"1\" class=\"dataframe\">\n",
       "  <thead>\n",
       "    <tr style=\"text-align: right;\">\n",
       "      <th></th>\n",
       "      <th>timestamp</th>\n",
       "      <th>indicator1</th>\n",
       "    </tr>\n",
       "  </thead>\n",
       "  <tbody>\n",
       "    <tr>\n",
       "      <th>0</th>\n",
       "      <td>2022-12-21 17:00:00</td>\n",
       "      <td>NaN</td>\n",
       "    </tr>\n",
       "    <tr>\n",
       "      <th>1</th>\n",
       "      <td>2022-12-21 18:00:00</td>\n",
       "      <td>135.45375</td>\n",
       "    </tr>\n",
       "    <tr>\n",
       "      <th>2</th>\n",
       "      <td>2022-12-21 19:00:00</td>\n",
       "      <td>135.47375</td>\n",
       "    </tr>\n",
       "    <tr>\n",
       "      <th>3</th>\n",
       "      <td>2022-12-21 20:00:00</td>\n",
       "      <td>135.47875</td>\n",
       "    </tr>\n",
       "    <tr>\n",
       "      <th>4</th>\n",
       "      <td>2022-12-22 05:00:00</td>\n",
       "      <td>135.38885</td>\n",
       "    </tr>\n",
       "    <tr>\n",
       "      <th>...</th>\n",
       "      <td>...</td>\n",
       "      <td>...</td>\n",
       "    </tr>\n",
       "    <tr>\n",
       "      <th>95</th>\n",
       "      <td>2022-12-30 16:00:00</td>\n",
       "      <td>129.09500</td>\n",
       "    </tr>\n",
       "    <tr>\n",
       "      <th>96</th>\n",
       "      <td>2022-12-30 17:00:00</td>\n",
       "      <td>129.95000</td>\n",
       "    </tr>\n",
       "    <tr>\n",
       "      <th>97</th>\n",
       "      <td>2022-12-30 18:00:00</td>\n",
       "      <td>129.96935</td>\n",
       "    </tr>\n",
       "    <tr>\n",
       "      <th>98</th>\n",
       "      <td>2022-12-30 19:00:00</td>\n",
       "      <td>129.97935</td>\n",
       "    </tr>\n",
       "    <tr>\n",
       "      <th>99</th>\n",
       "      <td>2022-12-30 20:00:00</td>\n",
       "      <td>129.99000</td>\n",
       "    </tr>\n",
       "  </tbody>\n",
       "</table>\n",
       "<p>100 rows × 2 columns</p>\n",
       "</div>"
      ],
      "text/plain": [
       "             timestamp  indicator1\n",
       "0  2022-12-21 17:00:00         NaN\n",
       "1  2022-12-21 18:00:00   135.45375\n",
       "2  2022-12-21 19:00:00   135.47375\n",
       "3  2022-12-21 20:00:00   135.47875\n",
       "4  2022-12-22 05:00:00   135.38885\n",
       "..                 ...         ...\n",
       "95 2022-12-30 16:00:00   129.09500\n",
       "96 2022-12-30 17:00:00   129.95000\n",
       "97 2022-12-30 18:00:00   129.96935\n",
       "98 2022-12-30 19:00:00   129.97935\n",
       "99 2022-12-30 20:00:00   129.99000\n",
       "\n",
       "[100 rows x 2 columns]"
      ]
     },
     "execution_count": 112,
     "metadata": {},
     "output_type": "execute_result"
    }
   ],
   "source": [
    "indicator1(script_data['AAPL'], 2)"
   ]
  },
  {
   "cell_type": "code",
   "execution_count": 113,
   "id": "b06d5046",
   "metadata": {},
   "outputs": [],
   "source": [
    "class Strategy:\n",
    "    \n",
    "    #Initialize all variables of Strategy class\n",
    "    def __init__(self, script):\n",
    "        self.close_data=[]\n",
    "        self.indicator_data=[]\n",
    "        self.df=pd.DataFrame()\n",
    "        self.signals=pd.DataFrame()\n",
    "        self.script_data=ScriptData()\n",
    "        self.script=script\n",
    "        pass\n",
    "    \n",
    "    #Get script data by calling convert_intraday_data and indicator1 functions\n",
    "    def get_script_data(self):\n",
    "        self.script_data.fetch_intraday_data(self.script)\n",
    "        self.df=self.script_data.convert_intraday_data(self.script)\n",
    "        self.df['indicator1']=indicator1(self.script_data[self.script], 5)['indicator1']\n",
    "        self.close_data=self.df['close']\n",
    "        self.indicator_data=self.df['indicator1']\n",
    "        return self.df\n",
    "    \n",
    "    # Provide signals based on close and indicator data\n",
    "    def get_signals(self):\n",
    "        size= len(self.df.index)\n",
    "        signal = [\"NaN\"]\n",
    "        i = 1\n",
    "        while i< size:\n",
    "            #Indicator cuts close downwards\n",
    "            if(self.close_data[i]>=self.indicator_data[i] and self.close_data[i-1]<=self.indicator_data[i-1]):\n",
    "                signal.append(\"SELL\")\n",
    "            #Indicator cuts close upwards\n",
    "            elif(self.close_data[i]<=self.indicator_data[i] and self.close_data[i-1]>=self.indicator_data[i-1]):\n",
    "                signal.append(\"BUY\")\n",
    "            else:\n",
    "                signal.append(\"NO SIGNAL\")                                \n",
    "            i=i+1\n",
    "        self.signals['timestamp']=self.df['timestamp']    \n",
    "        self.signals['signal']=signal\n",
    "        return self.signals\n",
    "    \n",
    "    #Visualize close and indicator cutting each other\n",
    "    def plotting(self, lower, upper):\n",
    "        ax = plt.gca() \n",
    "        # line plot for close data\n",
    "        strategy.df.iloc[lower:upper].plot(kind = 'line', x = 'timestamp', y = 'close', color = 'red',ax = ax)\n",
    "        # line plot for indicator data\n",
    "        strategy.df.iloc[lower:upper].plot(kind = 'line',x = 'timestamp', y = 'indicator1', color = 'blue',ax = ax)\n",
    "        # set the title\n",
    "        plt.title('Buy / Sell')\n",
    "        # show the plot\n",
    "        plt.show()\n",
    "    \n",
    "    #CandleStick plot\n",
    "    def plot_candlestick(self):\n",
    "        fig = go.Figure()\n",
    "        fig.add_trace(go.Candlestick(x=self.df['timestamp'],\n",
    "                open=self.df['open'],\n",
    "                high=self.df['high'],\n",
    "                low=self.df['low'],\n",
    "                close=self.df['close'], name= 'df'))\n",
    "        fig.add_trace(go.Scatter(x=self.df['timestamp'], y=self.df['indicator1'],mode='lines', name= 'indiactor', line=dict(color=\"#009900\")))\n",
    "        fig.show()\n",
    "        "
   ]
  },
  {
   "cell_type": "code",
   "execution_count": 114,
   "id": "63b7b35c",
   "metadata": {},
   "outputs": [
    {
     "data": {
      "text/plain": [
       "0          NaN\n",
       "1          NaN\n",
       "2          NaN\n",
       "3          NaN\n",
       "4     164.7960\n",
       "        ...   \n",
       "95    144.7953\n",
       "96    145.1124\n",
       "97    145.3865\n",
       "98    145.8245\n",
       "99    146.2945\n",
       "Name: indicator1, Length: 100, dtype: float64"
      ]
     },
     "execution_count": 114,
     "metadata": {},
     "output_type": "execute_result"
    }
   ],
   "source": [
    "strategy= Strategy('NVDA')\n",
    "strategy.get_script_data()\n",
    "strategy.indicator_data"
   ]
  },
  {
   "cell_type": "code",
   "execution_count": 115,
   "id": "20e88cab",
   "metadata": {},
   "outputs": [],
   "source": [
    "df=strategy.get_signals()"
   ]
  },
  {
   "cell_type": "code",
   "execution_count": 116,
   "id": "0d7751b3",
   "metadata": {},
   "outputs": [
    {
     "data": {
      "text/html": [
       "<div>\n",
       "<style scoped>\n",
       "    .dataframe tbody tr th:only-of-type {\n",
       "        vertical-align: middle;\n",
       "    }\n",
       "\n",
       "    .dataframe tbody tr th {\n",
       "        vertical-align: top;\n",
       "    }\n",
       "\n",
       "    .dataframe thead th {\n",
       "        text-align: right;\n",
       "    }\n",
       "</style>\n",
       "<table border=\"1\" class=\"dataframe\">\n",
       "  <thead>\n",
       "    <tr style=\"text-align: right;\">\n",
       "      <th></th>\n",
       "      <th>timestamp</th>\n",
       "      <th>signal</th>\n",
       "    </tr>\n",
       "  </thead>\n",
       "  <tbody>\n",
       "    <tr>\n",
       "      <th>14</th>\n",
       "      <td>2022-12-22 15:00:00</td>\n",
       "      <td>SELL</td>\n",
       "    </tr>\n",
       "    <tr>\n",
       "      <th>19</th>\n",
       "      <td>2022-12-22 20:00:00</td>\n",
       "      <td>BUY</td>\n",
       "    </tr>\n",
       "    <tr>\n",
       "      <th>21</th>\n",
       "      <td>2022-12-23 06:00:00</td>\n",
       "      <td>SELL</td>\n",
       "    </tr>\n",
       "    <tr>\n",
       "      <th>24</th>\n",
       "      <td>2022-12-23 09:00:00</td>\n",
       "      <td>BUY</td>\n",
       "    </tr>\n",
       "    <tr>\n",
       "      <th>28</th>\n",
       "      <td>2022-12-23 13:00:00</td>\n",
       "      <td>SELL</td>\n",
       "    </tr>\n",
       "    <tr>\n",
       "      <th>34</th>\n",
       "      <td>2022-12-23 19:00:00</td>\n",
       "      <td>BUY</td>\n",
       "    </tr>\n",
       "    <tr>\n",
       "      <th>36</th>\n",
       "      <td>2022-12-27 05:00:00</td>\n",
       "      <td>SELL</td>\n",
       "    </tr>\n",
       "    <tr>\n",
       "      <th>39</th>\n",
       "      <td>2022-12-27 08:00:00</td>\n",
       "      <td>BUY</td>\n",
       "    </tr>\n",
       "    <tr>\n",
       "      <th>53</th>\n",
       "      <td>2022-12-28 06:00:00</td>\n",
       "      <td>SELL</td>\n",
       "    </tr>\n",
       "    <tr>\n",
       "      <th>56</th>\n",
       "      <td>2022-12-28 09:00:00</td>\n",
       "      <td>BUY</td>\n",
       "    </tr>\n",
       "    <tr>\n",
       "      <th>57</th>\n",
       "      <td>2022-12-28 10:00:00</td>\n",
       "      <td>SELL</td>\n",
       "    </tr>\n",
       "    <tr>\n",
       "      <th>58</th>\n",
       "      <td>2022-12-28 11:00:00</td>\n",
       "      <td>BUY</td>\n",
       "    </tr>\n",
       "    <tr>\n",
       "      <th>60</th>\n",
       "      <td>2022-12-28 13:00:00</td>\n",
       "      <td>SELL</td>\n",
       "    </tr>\n",
       "    <tr>\n",
       "      <th>62</th>\n",
       "      <td>2022-12-28 15:00:00</td>\n",
       "      <td>BUY</td>\n",
       "    </tr>\n",
       "    <tr>\n",
       "      <th>66</th>\n",
       "      <td>2022-12-28 19:00:00</td>\n",
       "      <td>SELL</td>\n",
       "    </tr>\n",
       "    <tr>\n",
       "      <th>78</th>\n",
       "      <td>2022-12-29 15:00:00</td>\n",
       "      <td>BUY</td>\n",
       "    </tr>\n",
       "    <tr>\n",
       "      <th>79</th>\n",
       "      <td>2022-12-29 16:00:00</td>\n",
       "      <td>SELL</td>\n",
       "    </tr>\n",
       "    <tr>\n",
       "      <th>83</th>\n",
       "      <td>2022-12-29 20:00:00</td>\n",
       "      <td>BUY</td>\n",
       "    </tr>\n",
       "    <tr>\n",
       "      <th>91</th>\n",
       "      <td>2022-12-30 12:00:00</td>\n",
       "      <td>SELL</td>\n",
       "    </tr>\n",
       "    <tr>\n",
       "      <th>93</th>\n",
       "      <td>2022-12-30 14:00:00</td>\n",
       "      <td>BUY</td>\n",
       "    </tr>\n",
       "    <tr>\n",
       "      <th>95</th>\n",
       "      <td>2022-12-30 16:00:00</td>\n",
       "      <td>SELL</td>\n",
       "    </tr>\n",
       "  </tbody>\n",
       "</table>\n",
       "</div>"
      ],
      "text/plain": [
       "             timestamp signal\n",
       "14 2022-12-22 15:00:00   SELL\n",
       "19 2022-12-22 20:00:00    BUY\n",
       "21 2022-12-23 06:00:00   SELL\n",
       "24 2022-12-23 09:00:00    BUY\n",
       "28 2022-12-23 13:00:00   SELL\n",
       "34 2022-12-23 19:00:00    BUY\n",
       "36 2022-12-27 05:00:00   SELL\n",
       "39 2022-12-27 08:00:00    BUY\n",
       "53 2022-12-28 06:00:00   SELL\n",
       "56 2022-12-28 09:00:00    BUY\n",
       "57 2022-12-28 10:00:00   SELL\n",
       "58 2022-12-28 11:00:00    BUY\n",
       "60 2022-12-28 13:00:00   SELL\n",
       "62 2022-12-28 15:00:00    BUY\n",
       "66 2022-12-28 19:00:00   SELL\n",
       "78 2022-12-29 15:00:00    BUY\n",
       "79 2022-12-29 16:00:00   SELL\n",
       "83 2022-12-29 20:00:00    BUY\n",
       "91 2022-12-30 12:00:00   SELL\n",
       "93 2022-12-30 14:00:00    BUY\n",
       "95 2022-12-30 16:00:00   SELL"
      ]
     },
     "execution_count": 116,
     "metadata": {},
     "output_type": "execute_result"
    }
   ],
   "source": [
    "# Filters all records with BUY or SELL\n",
    "df.loc[(df['signal'] == 'BUY')|(df['signal'] == 'SELL')]"
   ]
  },
  {
   "cell_type": "code",
   "execution_count": 117,
   "id": "1274ecc4",
   "metadata": {},
   "outputs": [
    {
     "data": {
      "image/png": "[encoded data removed]",
      "text/plain": [
       "<Figure size 640x480 with 1 Axes>"
      ]
     },
     "metadata": {},
     "output_type": "display_data"
    }
   ],
   "source": [
    "# We can see that the 14th record indicator cuts close from above, hence we sell \n",
    "strategy.plotting(11,16)"
   ]
  },
  {
   "cell_type": "code",
   "execution_count": 118,
   "id": "347e712a",
   "metadata": {},
   "outputs": [
    {
     "data": {
      "image/png": "[encoded data removed]",
      "text/plain": [
       "<Figure size 640x480 with 1 Axes>"
      ]
     },
     "metadata": {},
     "output_type": "display_data"
    }
   ],
   "source": [
    "# We can see that the 20th record indicator cuts close from bellow, hence we buy\n",
    "strategy.plotting(16,21)"
   ]
  },
  {
   "cell_type": "code",
   "execution_count": 119,
   "id": "503ad571",
   "metadata": {},
   "outputs": [
    {
     "data": {
      "application/vnd.plotly.v1+json": {
       "config": {
        "plotlyServerURL": "https://plot.ly"
       },
       "data": [
        {
         "close": [
          164.93,
          165,
          165.09,
          164.56,
          164.4,
          164.18,
          163.88,
          162.7,
          161.35,
          157.2,
          153.88,
          150.83,
          150.63,
          149.9731,
          151.45,
          153.4,
          153.04,
          153.25,
          153,
          151.66,
          152.3,
          153.63,
          153.01,
          153.3,
          152.63,
          149.87,
          150.725,
          151.52,
          151.635,
          151.0445,
          151.56,
          152.09,
          152.02,
          151.9886,
          151.83,
          151.84,
          153.6,
          153.61,
          153.01,
          151.3,
          150.85,
          145.73,
          145.8569,
          144.1722,
          143.27,
          142.585,
          141.41,
          141.19,
          140.2999,
          140.35,
          140.27,
          139.99,
          139,
          141,
          141.02,
          141.25,
          140.16,
          140.946,
          139.4508,
          140.07,
          141.54,
          141.3299,
          140.43,
          140.36,
          140.36,
          140.27,
          140.47,
          140.55,
          142.04,
          142.06,
          142.02,
          142,
          144.24,
          144.645,
          145.4,
          146.35,
          146.43,
          145.825,
          145.23,
          146.03,
          146.11,
          146.1,
          146.05,
          145.95,
          145,
          145.6,
          145,
          143.8,
          143.51,
          144.32,
          143.9652,
          144.652,
          144.9595,
          144.17,
          144.05,
          146.145,
          146.2375,
          146.33,
          146.36,
          146.4
         ],
         "high": [
          165.43,
          165,
          165.09,
          165,
          165.24,
          164.46,
          164.29,
          164.2,
          166,
          161.41,
          157.31,
          154.18,
          151.32,
          150.63,
          151.5496,
          154.3499,
          153.66,
          153.39,
          153.35,
          153.05,
          152.89,
          153.72,
          153.99,
          153.74,
          154.45,
          152.92,
          153.39,
          152.15,
          152.39,
          151.97,
          151.6699,
          152.2,
          152.51,
          152.19,
          151.95,
          151.85,
          154,
          154.1,
          153.89,
          153.17,
          154.28,
          151.16,
          148.13,
          146,
          144.97,
          144,
          142.84,
          142.06,
          141.3,
          141.21,
          140.48,
          140.4,
          141.21,
          141.21,
          141.38,
          141.4,
          141.4299,
          142.62,
          142.12,
          140.6099,
          141.67,
          141.83,
          141.59,
          140.73,
          140.58,
          140.45,
          140.49,
          140.58,
          142.04,
          142.12,
          142.3,
          142.02,
          144.95,
          145.31,
          145.49,
          146.7996,
          146.58,
          146.45,
          146.09,
          146.83,
          146.2999,
          146.11,
          146.12,
          146.05,
          145.51,
          145.6,
          145.2,
          144.9,
          144.99,
          144.57,
          144.8,
          144.755,
          145.17,
          144.99,
          144.28,
          146.2899,
          146.75,
          146.4199,
          146.4,
          146.48
         ],
         "low": [
          164.5,
          164.93,
          164.93,
          164.4301,
          164.4,
          163.95,
          163.82,
          162.55,
          161.12,
          156.4617,
          153.56,
          150.56,
          149.14,
          148.82,
          149.81,
          151.17,
          150.63,
          152.92,
          152.9,
          151.66,
          152.01,
          152.18,
          153.01,
          153,
          150.98,
          148.83,
          149.08,
          150.0167,
          151.18,
          150.855,
          150.7101,
          151.03,
          151.72,
          151.82,
          151.76,
          151.58,
          152.21,
          153.57,
          152.98,
          151.01,
          150.5,
          144.6715,
          145.28,
          144.16,
          142.92,
          142.33,
          141.33,
          140.56,
          140.26,
          140.13,
          140.26,
          139.95,
          138.75,
          138.47,
          140.02,
          140.35,
          139.71,
          138.84,
          139.42,
          138.86,
          139.6615,
          140.86,
          139.905,
          139.59,
          140.16,
          140.16,
          140.28,
          140.2,
          140.91,
          141.73,
          141.83,
          141.76,
          141.73,
          142.27,
          143.61,
          144.81,
          145.25,
          145.32,
          145.01,
          145.16,
          146,
          146.05,
          146.03,
          145.86,
          144.09,
          145.08,
          145,
          143.77,
          143.15,
          142.33,
          143.36,
          143.38,
          144.2554,
          143.62,
          143.65,
          144.0334,
          145.9,
          146.23,
          146.32,
          146.36
         ],
         "name": "df",
         "open": [
          165.01,
          164.93,
          164.97,
          165,
          165.24,
          164.2,
          164.18,
          164.1,
          164.2,
          161.26,
          157.19,
          153.89,
          150.81,
          150.615,
          149.99,
          151.45,
          153.39,
          153,
          153.2,
          153,
          152.22,
          152.2,
          153.62,
          153.05,
          152.75,
          152.65,
          149.93,
          150.74,
          151.4884,
          151.635,
          151.02,
          151.57,
          152.06,
          152.02,
          151.9,
          151.83,
          153.72,
          153.88,
          153.43,
          153.17,
          152.8,
          150.84,
          145.745,
          145.85,
          144.175,
          143.29,
          142.59,
          141.41,
          141.21,
          140.3,
          140.35,
          140.27,
          141.21,
          139.08,
          140.71,
          140.93,
          140.5001,
          140.16,
          140.935,
          139.4504,
          140.03,
          141.55,
          141.35,
          140.47,
          140.36,
          140.4,
          140.3,
          140.49,
          140.91,
          142.04,
          142.3,
          142.02,
          141.86,
          144.1,
          144.67,
          145.42,
          146.38,
          146.44,
          145.82,
          145.22,
          146.03,
          146.11,
          146.08,
          146.02,
          145.51,
          145.1,
          145.18,
          144.9,
          144.7106,
          143.52,
          144.32,
          143.95,
          144.67,
          144.98,
          144.19,
          144.07,
          146.14,
          146.3,
          146.39,
          146.36
         ],
         "type": "candlestick",
         "x": [
          "2022-12-21T17:00:00",
          "2022-12-21T18:00:00",
          "2022-12-21T19:00:00",
          "2022-12-21T20:00:00",
          "2022-12-22T05:00:00",
          "2022-12-22T06:00:00",
          "2022-12-22T07:00:00",
          "2022-12-22T08:00:00",
          "2022-12-22T09:00:00",
          "2022-12-22T10:00:00",
          "2022-12-22T11:00:00",
          "2022-12-22T12:00:00",
          "2022-12-22T13:00:00",
          "2022-12-22T14:00:00",
          "2022-12-22T15:00:00",
          "2022-12-22T16:00:00",
          "2022-12-22T17:00:00",
          "2022-12-22T18:00:00",
          "2022-12-22T19:00:00",
          "2022-12-22T20:00:00",
          "2022-12-23T05:00:00",
          "2022-12-23T06:00:00",
          "2022-12-23T07:00:00",
          "2022-12-23T08:00:00",
          "2022-12-23T09:00:00",
          "2022-12-23T10:00:00",
          "2022-12-23T11:00:00",
          "2022-12-23T12:00:00",
          "2022-12-23T13:00:00",
          "2022-12-23T14:00:00",
          "2022-12-23T15:00:00",
          "2022-12-23T16:00:00",
          "2022-12-23T17:00:00",
          "2022-12-23T18:00:00",
          "2022-12-23T19:00:00",
          "2022-12-23T20:00:00",
          "2022-12-27T05:00:00",
          "2022-12-27T06:00:00",
          "2022-12-27T07:00:00",
          "2022-12-27T08:00:00",
          "2022-12-27T09:00:00",
          "2022-12-27T10:00:00",
          "2022-12-27T11:00:00",
          "2022-12-27T12:00:00",
          "2022-12-27T13:00:00",
          "2022-12-27T14:00:00",
          "2022-12-27T15:00:00",
          "2022-12-27T16:00:00",
          "2022-12-27T17:00:00",
          "2022-12-27T18:00:00",
          "2022-12-27T19:00:00",
          "2022-12-27T20:00:00",
          "2022-12-28T05:00:00",
          "2022-12-28T06:00:00",
          "2022-12-28T07:00:00",
          "2022-12-28T08:00:00",
          "2022-12-28T09:00:00",
          "2022-12-28T10:00:00",
          "2022-12-28T11:00:00",
          "2022-12-28T12:00:00",
          "2022-12-28T13:00:00",
          "2022-12-28T14:00:00",
          "2022-12-28T15:00:00",
          "2022-12-28T16:00:00",
          "2022-12-28T17:00:00",
          "2022-12-28T18:00:00",
          "2022-12-28T19:00:00",
          "2022-12-28T20:00:00",
          "2022-12-29T05:00:00",
          "2022-12-29T06:00:00",
          "2022-12-29T07:00:00",
          "2022-12-29T08:00:00",
          "2022-12-29T09:00:00",
          "2022-12-29T10:00:00",
          "2022-12-29T11:00:00",
          "2022-12-29T12:00:00",
          "2022-12-29T13:00:00",
          "2022-12-29T14:00:00",
          "2022-12-29T15:00:00",
          "2022-12-29T16:00:00",
          "2022-12-29T17:00:00",
          "2022-12-29T18:00:00",
          "2022-12-29T19:00:00",
          "2022-12-29T20:00:00",
          "2022-12-30T05:00:00",
          "2022-12-30T06:00:00",
          "2022-12-30T07:00:00",
          "2022-12-30T08:00:00",
          "2022-12-30T09:00:00",
          "2022-12-30T10:00:00",
          "2022-12-30T11:00:00",
          "2022-12-30T12:00:00",
          "2022-12-30T13:00:00",
          "2022-12-30T14:00:00",
          "2022-12-30T15:00:00",
          "2022-12-30T16:00:00",
          "2022-12-30T17:00:00",
          "2022-12-30T18:00:00",
          "2022-12-30T19:00:00",
          "2022-12-30T20:00:00"
         ]
        },
        {
         "line": {
          "color": "#009900"
         },
         "mode": "lines",
         "name": "indiactor",
         "type": "scatter",
         "x": [
          "2022-12-21T17:00:00",
          "2022-12-21T18:00:00",
          "2022-12-21T19:00:00",
          "2022-12-21T20:00:00",
          "2022-12-22T05:00:00",
          "2022-12-22T06:00:00",
          "2022-12-22T07:00:00",
          "2022-12-22T08:00:00",
          "2022-12-22T09:00:00",
          "2022-12-22T10:00:00",
          "2022-12-22T11:00:00",
          "2022-12-22T12:00:00",
          "2022-12-22T13:00:00",
          "2022-12-22T14:00:00",
          "2022-12-22T15:00:00",
          "2022-12-22T16:00:00",
          "2022-12-22T17:00:00",
          "2022-12-22T18:00:00",
          "2022-12-22T19:00:00",
          "2022-12-22T20:00:00",
          "2022-12-23T05:00:00",
          "2022-12-23T06:00:00",
          "2022-12-23T07:00:00",
          "2022-12-23T08:00:00",
          "2022-12-23T09:00:00",
          "2022-12-23T10:00:00",
          "2022-12-23T11:00:00",
          "2022-12-23T12:00:00",
          "2022-12-23T13:00:00",
          "2022-12-23T14:00:00",
          "2022-12-23T15:00:00",
          "2022-12-23T16:00:00",
          "2022-12-23T17:00:00",
          "2022-12-23T18:00:00",
          "2022-12-23T19:00:00",
          "2022-12-23T20:00:00",
          "2022-12-27T05:00:00",
          "2022-12-27T06:00:00",
          "2022-12-27T07:00:00",
          "2022-12-27T08:00:00",
          "2022-12-27T09:00:00",
          "2022-12-27T10:00:00",
          "2022-12-27T11:00:00",
          "2022-12-27T12:00:00",
          "2022-12-27T13:00:00",
          "2022-12-27T14:00:00",
          "2022-12-27T15:00:00",
          "2022-12-27T16:00:00",
          "2022-12-27T17:00:00",
          "2022-12-27T18:00:00",
          "2022-12-27T19:00:00",
          "2022-12-27T20:00:00",
          "2022-12-28T05:00:00",
          "2022-12-28T06:00:00",
          "2022-12-28T07:00:00",
          "2022-12-28T08:00:00",
          "2022-12-28T09:00:00",
          "2022-12-28T10:00:00",
          "2022-12-28T11:00:00",
          "2022-12-28T12:00:00",
          "2022-12-28T13:00:00",
          "2022-12-28T14:00:00",
          "2022-12-28T15:00:00",
          "2022-12-28T16:00:00",
          "2022-12-28T17:00:00",
          "2022-12-28T18:00:00",
          "2022-12-28T19:00:00",
          "2022-12-28T20:00:00",
          "2022-12-29T05:00:00",
          "2022-12-29T06:00:00",
          "2022-12-29T07:00:00",
          "2022-12-29T08:00:00",
          "2022-12-29T09:00:00",
          "2022-12-29T10:00:00",
          "2022-12-29T11:00:00",
          "2022-12-29T12:00:00",
          "2022-12-29T13:00:00",
          "2022-12-29T14:00:00",
          "2022-12-29T15:00:00",
          "2022-12-29T16:00:00",
          "2022-12-29T17:00:00",
          "2022-12-29T18:00:00",
          "2022-12-29T19:00:00",
          "2022-12-29T20:00:00",
          "2022-12-30T05:00:00",
          "2022-12-30T06:00:00",
          "2022-12-30T07:00:00",
          "2022-12-30T08:00:00",
          "2022-12-30T09:00:00",
          "2022-12-30T10:00:00",
          "2022-12-30T11:00:00",
          "2022-12-30T12:00:00",
          "2022-12-30T13:00:00",
          "2022-12-30T14:00:00",
          "2022-12-30T15:00:00",
          "2022-12-30T16:00:00",
          "2022-12-30T17:00:00",
          "2022-12-30T18:00:00",
          "2022-12-30T19:00:00",
          "2022-12-30T20:00:00"
         ],
         "y": [
          null,
          null,
          null,
          null,
          164.796,
          164.64600000000002,
          164.422,
          163.94400000000002,
          163.30200000000002,
          161.862,
          159.80199999999996,
          157.19199999999998,
          154.778,
          152.50261999999998,
          151.35262000000003,
          151.25662,
          151.69861999999998,
          152.22261999999998,
          152.828,
          152.87,
          152.65,
          152.768,
          152.71999999999997,
          152.78000000000003,
          152.974,
          152.488,
          151.90699999999998,
          151.60899999999998,
          151.276,
          150.9589,
          151.2969,
          151.5699,
          151.66989999999998,
          151.74062,
          151.89772,
          151.95372000000003,
          152.25572000000003,
          152.57372,
          152.778,
          152.67199999999997,
          152.474,
          150.9,
          149.34938,
          147.58182,
          145.97582,
          144.32282,
          143.45882,
          142.52543999999997,
          141.75097999999997,
          141.16698000000002,
          140.70398,
          140.41998,
          139.98198,
          140.122,
          140.256,
          140.452,
          140.486,
          140.8752,
          140.56536,
          140.37536,
          140.43336,
          140.66734000000002,
          140.56414,
          140.74598,
          140.80398000000002,
          140.54998,
          140.37800000000001,
          140.402,
          140.738,
          141.07800000000003,
          141.42799999999997,
          141.734,
          142.472,
          142.993,
          143.661,
          144.527,
          145.413,
          145.73000000000002,
          145.847,
          145.97299999999998,
          145.925,
          145.85899999999998,
          145.904,
          146.048,
          145.842,
          145.73999999999998,
          145.52,
          145.07,
          144.58200000000002,
          144.446,
          144.11903999999998,
          144.04944,
          144.28134,
          144.41334,
          144.35934000000003,
          144.7953,
          145.11240000000004,
          145.3865,
          145.8245,
          146.29450000000003
         ]
        }
       ],
       "layout": {
        "template": {
         "data": {
          "bar": [
           {
            "error_x": {
             "color": "#2a3f5f"
            },
            "error_y": {
             "color": "#2a3f5f"
            },
            "marker": {
             "line": {
              "color": "#E5ECF6",
              "width": 0.5
             },
             "pattern": {
              "fillmode": "overlay",
              "size": 10,
              "solidity": 0.2
             }
            },
            "type": "bar"
           }
          ],
          "barpolar": [
           {
            "marker": {
             "line": {
              "color": "#E5ECF6",
              "width": 0.5
             },
             "pattern": {
              "fillmode": "overlay",
              "size": 10,
              "solidity": 0.2
             }
            },
            "type": "barpolar"
           }
          ],
          "carpet": [
           {
            "aaxis": {
             "endlinecolor": "#2a3f5f",
             "gridcolor": "white",
             "linecolor": "white",
             "minorgridcolor": "white",
             "startlinecolor": "#2a3f5f"
            },
            "baxis": {
             "endlinecolor": "#2a3f5f",
             "gridcolor": "white",
             "linecolor": "white",
             "minorgridcolor": "white",
             "startlinecolor": "#2a3f5f"
            },
            "type": "carpet"
           }
          ],
          "choropleth": [
           {
            "colorbar": {
             "outlinewidth": 0,
             "ticks": ""
            },
            "type": "choropleth"
           }
          ],
          "contour": [
           {
            "colorbar": {
             "outlinewidth": 0,
             "ticks": ""
            },
            "colorscale": [
             [
              0,
              "#0d0887"
             ],
             [
              0.1111111111111111,
              "#46039f"
             ],
             [
              0.2222222222222222,
              "#7201a8"
             ],
             [
              0.3333333333333333,
              "#9c179e"
             ],
             [
              0.4444444444444444,
              "#bd3786"
             ],
             [
              0.5555555555555556,
              "#d8576b"
             ],
             [
              0.6666666666666666,
              "#ed7953"
             ],
             [
              0.7777777777777778,
              "#fb9f3a"
             ],
             [
              0.8888888888888888,
              "#fdca26"
             ],
             [
              1,
              "#f0f921"
             ]
            ],
            "type": "contour"
           }
          ],
          "contourcarpet": [
           {
            "colorbar": {
             "outlinewidth": 0,
             "ticks": ""
            },
            "type": "contourcarpet"
           }
          ],
          "heatmap": [
           {
            "colorbar": {
             "outlinewidth": 0,
             "ticks": ""
            },
            "colorscale": [
             [
              0,
              "#0d0887"
             ],
             [
              0.1111111111111111,
              "#46039f"
             ],
             [
              0.2222222222222222,
              "#7201a8"
             ],
             [
              0.3333333333333333,
              "#9c179e"
             ],
             [
              0.4444444444444444,
              "#bd3786"
             ],
             [
              0.5555555555555556,
              "#d8576b"
             ],
             [
              0.6666666666666666,
              "#ed7953"
             ],
             [
              0.7777777777777778,
              "#fb9f3a"
             ],
             [
              0.8888888888888888,
              "#fdca26"
             ],
             [
              1,
              "#f0f921"
             ]
            ],
            "type": "heatmap"
           }
          ],
          "heatmapgl": [
           {
            "colorbar": {
             "outlinewidth": 0,
             "ticks": ""
            },
            "colorscale": [
             [
              0,
              "#0d0887"
             ],
             [
              0.1111111111111111,
              "#46039f"
             ],
             [
              0.2222222222222222,
              "#7201a8"
             ],
             [
              0.3333333333333333,
              "#9c179e"
             ],
             [
              0.4444444444444444,
              "#bd3786"
             ],
             [
              0.5555555555555556,
              "#d8576b"
             ],
             [
              0.6666666666666666,
              "#ed7953"
             ],
             [
              0.7777777777777778,
              "#fb9f3a"
             ],
             [
              0.8888888888888888,
              "#fdca26"
             ],
             [
              1,
              "#f0f921"
             ]
            ],
            "type": "heatmapgl"
           }
          ],
          "histogram": [
           {
            "marker": {
             "pattern": {
              "fillmode": "overlay",
              "size": 10,
              "solidity": 0.2
             }
            },
            "type": "histogram"
           }
          ],
          "histogram2d": [
           {
            "colorbar": {
             "outlinewidth": 0,
             "ticks": ""
            },
            "colorscale": [
             [
              0,
              "#0d0887"
             ],
             [
              0.1111111111111111,
              "#46039f"
             ],
             [
              0.2222222222222222,
              "#7201a8"
             ],
             [
              0.3333333333333333,
              "#9c179e"
             ],
             [
              0.4444444444444444,
              "#bd3786"
             ],
             [
              0.5555555555555556,
              "#d8576b"
             ],
             [
              0.6666666666666666,
              "#ed7953"
             ],
             [
              0.7777777777777778,
              "#fb9f3a"
             ],
             [
              0.8888888888888888,
              "#fdca26"
             ],
             [
              1,
              "#f0f921"
             ]
            ],
            "type": "histogram2d"
           }
          ],
          "histogram2dcontour": [
           {
            "colorbar": {
             "outlinewidth": 0,
             "ticks": ""
            },
            "colorscale": [
             [
              0,
              "#0d0887"
             ],
             [
              0.1111111111111111,
              "#46039f"
             ],
             [
              0.2222222222222222,
              "#7201a8"
             ],
             [
              0.3333333333333333,
              "#9c179e"
             ],
             [
              0.4444444444444444,
              "#bd3786"
             ],
             [
              0.5555555555555556,
              "#d8576b"
             ],
             [
              0.6666666666666666,
              "#ed7953"
             ],
             [
              0.7777777777777778,
              "#fb9f3a"
             ],
             [
              0.8888888888888888,
              "#fdca26"
             ],
             [
              1,
              "#f0f921"
             ]
            ],
            "type": "histogram2dcontour"
           }
          ],
          "mesh3d": [
           {
            "colorbar": {
             "outlinewidth": 0,
             "ticks": ""
            },
            "type": "mesh3d"
           }
          ],
          "parcoords": [
           {
            "line": {
             "colorbar": {
              "outlinewidth": 0,
              "ticks": ""
             }
            },
            "type": "parcoords"
           }
          ],
          "pie": [
           {
            "automargin": true,
            "type": "pie"
           }
          ],
          "scatter": [
           {
            "fillpattern": {
             "fillmode": "overlay",
             "size": 10,
             "solidity": 0.2
            },
            "type": "scatter"
           }
          ],
          "scatter3d": [
           {
            "line": {
             "colorbar": {
              "outlinewidth": 0,
              "ticks": ""
             }
            },
            "marker": {
             "colorbar": {
              "outlinewidth": 0,
              "ticks": ""
             }
            },
            "type": "scatter3d"
           }
          ],
          "scattercarpet": [
           {
            "marker": {
             "colorbar": {
              "outlinewidth": 0,
              "ticks": ""
             }
            },
            "type": "scattercarpet"
           }
          ],
          "scattergeo": [
           {
            "marker": {
             "colorbar": {
              "outlinewidth": 0,
              "ticks": ""
             }
            },
            "type": "scattergeo"
           }
          ],
          "scattergl": [
           {
            "marker": {
             "colorbar": {
              "outlinewidth": 0,
              "ticks": ""
             }
            },
            "type": "scattergl"
           }
          ],
          "scattermapbox": [
           {
            "marker": {
             "colorbar": {
              "outlinewidth": 0,
              "ticks": ""
             }
            },
            "type": "scattermapbox"
           }
          ],
          "scatterpolar": [
           {
            "marker": {
             "colorbar": {
              "outlinewidth": 0,
              "ticks": ""
             }
            },
            "type": "scatterpolar"
           }
          ],
          "scatterpolargl": [
           {
            "marker": {
             "colorbar": {
              "outlinewidth": 0,
              "ticks": ""
             }
            },
            "type": "scatterpolargl"
           }
          ],
          "scatterternary": [
           {
            "marker": {
             "colorbar": {
              "outlinewidth": 0,
              "ticks": ""
             }
            },
            "type": "scatterternary"
           }
          ],
          "surface": [
           {
            "colorbar": {
             "outlinewidth": 0,
             "ticks": ""
            },
            "colorscale": [
             [
              0,
              "#0d0887"
             ],
             [
              0.1111111111111111,
              "#46039f"
             ],
             [
              0.2222222222222222,
              "#7201a8"
             ],
             [
              0.3333333333333333,
              "#9c179e"
             ],
             [
              0.4444444444444444,
              "#bd3786"
             ],
             [
              0.5555555555555556,
              "#d8576b"
             ],
             [
              0.6666666666666666,
              "#ed7953"
             ],
             [
              0.7777777777777778,
              "#fb9f3a"
             ],
             [
              0.8888888888888888,
              "#fdca26"
             ],
             [
              1,
              "#f0f921"
             ]
            ],
            "type": "surface"
           }
          ],
          "table": [
           {
            "cells": {
             "fill": {
              "color": "#EBF0F8"
             },
             "line": {
              "color": "white"
             }
            },
            "header": {
             "fill": {
              "color": "#C8D4E3"
             },
             "line": {
              "color": "white"
             }
            },
            "type": "table"
           }
          ]
         },
         "layout": {
          "annotationdefaults": {
           "arrowcolor": "#2a3f5f",
           "arrowhead": 0,
           "arrowwidth": 1
          },
          "autotypenumbers": "strict",
          "coloraxis": {
           "colorbar": {
            "outlinewidth": 0,
            "ticks": ""
           }
          },
          "colorscale": {
           "diverging": [
            [
             0,
             "#8e0152"
            ],
            [
             0.1,
             "#c51b7d"
            ],
            [
             0.2,
             "#de77ae"
            ],
            [
             0.3,
             "#f1b6da"
            ],
            [
             0.4,
             "#fde0ef"
            ],
            [
             0.5,
             "#f7f7f7"
            ],
            [
             0.6,
             "#e6f5d0"
            ],
            [
             0.7,
             "#b8e186"
            ],
            [
             0.8,
             "#7fbc41"
            ],
            [
             0.9,
             "#4d9221"
            ],
            [
             1,
             "#276419"
            ]
           ],
           "sequential": [
            [
             0,
             "#0d0887"
            ],
            [
             0.1111111111111111,
             "#46039f"
            ],
            [
             0.2222222222222222,
             "#7201a8"
            ],
            [
             0.3333333333333333,
             "#9c179e"
            ],
            [
             0.4444444444444444,
             "#bd3786"
            ],
            [
             0.5555555555555556,
             "#d8576b"
            ],
            [
             0.6666666666666666,
             "#ed7953"
            ],
            [
             0.7777777777777778,
             "#fb9f3a"
            ],
            [
             0.8888888888888888,
             "#fdca26"
            ],
            [
             1,
             "#f0f921"
            ]
           ],
           "sequentialminus": [
            [
             0,
             "#0d0887"
            ],
            [
             0.1111111111111111,
             "#46039f"
            ],
            [
             0.2222222222222222,
             "#7201a8"
            ],
            [
             0.3333333333333333,
             "#9c179e"
            ],
            [
             0.4444444444444444,
             "#bd3786"
            ],
            [
             0.5555555555555556,
             "#d8576b"
            ],
            [
             0.6666666666666666,
             "#ed7953"
            ],
            [
             0.7777777777777778,
             "#fb9f3a"
            ],
            [
             0.8888888888888888,
             "#fdca26"
            ],
            [
             1,
             "#f0f921"
            ]
           ]
          },
          "colorway": [
           "#636efa",
           "#EF553B",
           "#00cc96",
           "#ab63fa",
           "#FFA15A",
           "#19d3f3",
           "#FF6692",
           "#B6E880",
           "#FF97FF",
           "#FECB52"
          ],
          "font": {
           "color": "#2a3f5f"
          },
          "geo": {
           "bgcolor": "white",
           "lakecolor": "white",
           "landcolor": "#E5ECF6",
           "showlakes": true,
           "showland": true,
           "subunitcolor": "white"
          },
          "hoverlabel": {
           "align": "left"
          },
          "hovermode": "closest",
          "mapbox": {
           "style": "light"
          },
          "paper_bgcolor": "white",
          "plot_bgcolor": "#E5ECF6",
          "polar": {
           "angularaxis": {
            "gridcolor": "white",
            "linecolor": "white",
            "ticks": ""
           },
           "bgcolor": "#E5ECF6",
           "radialaxis": {
            "gridcolor": "white",
            "linecolor": "white",
            "ticks": ""
           }
          },
          "scene": {
           "xaxis": {
            "backgroundcolor": "#E5ECF6",
            "gridcolor": "white",
            "gridwidth": 2,
            "linecolor": "white",
            "showbackground": true,
            "ticks": "",
            "zerolinecolor": "white"
           },
           "yaxis": {
            "backgroundcolor": "#E5ECF6",
            "gridcolor": "white",
            "gridwidth": 2,
            "linecolor": "white",
            "showbackground": true,
            "ticks": "",
            "zerolinecolor": "white"
           },
           "zaxis": {
            "backgroundcolor": "#E5ECF6",
            "gridcolor": "white",
            "gridwidth": 2,
            "linecolor": "white",
            "showbackground": true,
            "ticks": "",
            "zerolinecolor": "white"
           }
          },
          "shapedefaults": {
           "line": {
            "color": "#2a3f5f"
           }
          },
          "ternary": {
           "aaxis": {
            "gridcolor": "white",
            "linecolor": "white",
            "ticks": ""
           },
           "baxis": {
            "gridcolor": "white",
            "linecolor": "white",
            "ticks": ""
           },
           "bgcolor": "#E5ECF6",
           "caxis": {
            "gridcolor": "white",
            "linecolor": "white",
            "ticks": ""
           }
          },
          "title": {
           "x": 0.05
          },
          "xaxis": {
           "automargin": true,
           "gridcolor": "white",
           "linecolor": "white",
           "ticks": "",
           "title": {
            "standoff": 15
           },
           "zerolinecolor": "white",
           "zerolinewidth": 2
          },
          "yaxis": {
           "automargin": true,
           "gridcolor": "white",
           "linecolor": "white",
           "ticks": "",
           "title": {
            "standoff": 15
           },
           "zerolinecolor": "white",
           "zerolinewidth": 2
          }
         }
        }
       }
      },
      "text/html": [
       "<div>                            <div id=\"6abae0ad-7fdb-44f8-a400-079a0af65eae\" class=\"plotly-graph-div\" style=\"height:525px; width:100%;\"></div>            <script type=\"text/javascript\">                require([\"plotly\"], function(Plotly) {                    window.PLOTLYENV=window.PLOTLYENV || {};                                    if (document.getElementById(\"6abae0ad-7fdb-44f8-a400-079a0af65eae\")) {                    Plotly.newPlot(                        \"6abae0ad-7fdb-44f8-a400-079a0af65eae\",                        [{\"close\":[164.93,165.0,165.09,164.56,164.4,164.18,163.88,162.7,161.35,157.2,153.88,150.83,150.63,149.9731,151.45,153.4,153.04,153.25,153.0,151.66,152.3,153.63,153.01,153.3,152.63,149.87,150.725,151.52,151.635,151.0445,151.56,152.09,152.02,151.9886,151.83,151.84,153.6,153.61,153.01,151.3,150.85,145.73,145.8569,144.1722,143.27,142.585,141.41,141.19,140.2999,140.35,140.27,139.99,139.0,141.0,141.02,141.25,140.16,140.946,139.4508,140.07,141.54,141.3299,140.43,140.36,140.36,140.27,140.47,140.55,142.04,142.06,142.02,142.0,144.24,144.645,145.4,146.35,146.43,145.825,145.23,146.03,146.11,146.1,146.05,145.95,145.0,145.6,145.0,143.8,143.51,144.32,143.9652,144.652,144.9595,144.17,144.05,146.145,146.2375,146.33,146.36,146.4],\"high\":[165.43,165.0,165.09,165.0,165.24,164.46,164.29,164.2,166.0,161.41,157.31,154.18,151.32,150.63,151.5496,154.3499,153.66,153.39,153.35,153.05,152.89,153.72,153.99,153.74,154.45,152.92,153.39,152.15,152.39,151.97,151.6699,152.2,152.51,152.19,151.95,151.85,154.0,154.1,153.89,153.17,154.28,151.16,148.13,146.0,144.97,144.0,142.84,142.06,141.3,141.21,140.48,140.4,141.21,141.21,141.38,141.4,141.4299,142.62,142.12,140.6099,141.67,141.83,141.59,140.73,140.58,140.45,140.49,140.58,142.04,142.12,142.3,142.02,144.95,145.31,145.49,146.7996,146.58,146.45,146.09,146.83,146.2999,146.11,146.12,146.05,145.51,145.6,145.2,144.9,144.99,144.57,144.8,144.755,145.17,144.99,144.28,146.2899,146.75,146.4199,146.4,146.48],\"low\":[164.5,164.93,164.93,164.4301,164.4,163.95,163.82,162.55,161.12,156.4617,153.56,150.56,149.14,148.82,149.81,151.17,150.63,152.92,152.9,151.66,152.01,152.18,153.01,153.0,150.98,148.83,149.08,150.0167,151.18,150.855,150.7101,151.03,151.72,151.82,151.76,151.58,152.21,153.57,152.98,151.01,150.5,144.6715,145.28,144.16,142.92,142.33,141.33,140.56,140.26,140.13,140.26,139.95,138.75,138.47,140.02,140.35,139.71,138.84,139.42,138.86,139.6615,140.86,139.905,139.59,140.16,140.16,140.28,140.2,140.91,141.73,141.83,141.76,141.73,142.27,143.61,144.81,145.25,145.32,145.01,145.16,146.0,146.05,146.03,145.86,144.09,145.08,145.0,143.77,143.15,142.33,143.36,143.38,144.2554,143.62,143.65,144.0334,145.9,146.23,146.32,146.36],\"name\":\"df\",\"open\":[165.01,164.93,164.97,165.0,165.24,164.2,164.18,164.1,164.2,161.26,157.19,153.89,150.81,150.615,149.99,151.45,153.39,153.0,153.2,153.0,152.22,152.2,153.62,153.05,152.75,152.65,149.93,150.74,151.4884,151.635,151.02,151.57,152.06,152.02,151.9,151.83,153.72,153.88,153.43,153.17,152.8,150.84,145.745,145.85,144.175,143.29,142.59,141.41,141.21,140.3,140.35,140.27,141.21,139.08,140.71,140.93,140.5001,140.16,140.935,139.4504,140.03,141.55,141.35,140.47,140.36,140.4,140.3,140.49,140.91,142.04,142.3,142.02,141.86,144.1,144.67,145.42,146.38,146.44,145.82,145.22,146.03,146.11,146.08,146.02,145.51,145.1,145.18,144.9,144.7106,143.52,144.32,143.95,144.67,144.98,144.19,144.07,146.14,146.3,146.39,146.36],\"x\":[\"2022-12-21T17:00:00\",\"2022-12-21T18:00:00\",\"2022-12-21T19:00:00\",\"2022-12-21T20:00:00\",\"2022-12-22T05:00:00\",\"2022-12-22T06:00:00\",\"2022-12-22T07:00:00\",\"2022-12-22T08:00:00\",\"2022-12-22T09:00:00\",\"2022-12-22T10:00:00\",\"2022-12-22T11:00:00\",\"2022-12-22T12:00:00\",\"2022-12-22T13:00:00\",\"2022-12-22T14:00:00\",\"2022-12-22T15:00:00\",\"2022-12-22T16:00:00\",\"2022-12-22T17:00:00\",\"2022-12-22T18:00:00\",\"2022-12-22T19:00:00\",\"2022-12-22T20:00:00\",\"2022-12-23T05:00:00\",\"2022-12-23T06:00:00\",\"2022-12-23T07:00:00\",\"2022-12-23T08:00:00\",\"2022-12-23T09:00:00\",\"2022-12-23T10:00:00\",\"2022-12-23T11:00:00\",\"2022-12-23T12:00:00\",\"2022-12-23T13:00:00\",\"2022-12-23T14:00:00\",\"2022-12-23T15:00:00\",\"2022-12-23T16:00:00\",\"2022-12-23T17:00:00\",\"2022-12-23T18:00:00\",\"2022-12-23T19:00:00\",\"2022-12-23T20:00:00\",\"2022-12-27T05:00:00\",\"2022-12-27T06:00:00\",\"2022-12-27T07:00:00\",\"2022-12-27T08:00:00\",\"2022-12-27T09:00:00\",\"2022-12-27T10:00:00\",\"2022-12-27T11:00:00\",\"2022-12-27T12:00:00\",\"2022-12-27T13:00:00\",\"2022-12-27T14:00:00\",\"2022-12-27T15:00:00\",\"2022-12-27T16:00:00\",\"2022-12-27T17:00:00\",\"2022-12-27T18:00:00\",\"2022-12-27T19:00:00\",\"2022-12-27T20:00:00\",\"2022-12-28T05:00:00\",\"2022-12-28T06:00:00\",\"2022-12-28T07:00:00\",\"2022-12-28T08:00:00\",\"2022-12-28T09:00:00\",\"2022-12-28T10:00:00\",\"2022-12-28T11:00:00\",\"2022-12-28T12:00:00\",\"2022-12-28T13:00:00\",\"2022-12-28T14:00:00\",\"2022-12-28T15:00:00\",\"2022-12-28T16:00:00\",\"2022-12-28T17:00:00\",\"2022-12-28T18:00:00\",\"2022-12-28T19:00:00\",\"2022-12-28T20:00:00\",\"2022-12-29T05:00:00\",\"2022-12-29T06:00:00\",\"2022-12-29T07:00:00\",\"2022-12-29T08:00:00\",\"2022-12-29T09:00:00\",\"2022-12-29T10:00:00\",\"2022-12-29T11:00:00\",\"2022-12-29T12:00:00\",\"2022-12-29T13:00:00\",\"2022-12-29T14:00:00\",\"2022-12-29T15:00:00\",\"2022-12-29T16:00:00\",\"2022-12-29T17:00:00\",\"2022-12-29T18:00:00\",\"2022-12-29T19:00:00\",\"2022-12-29T20:00:00\",\"2022-12-30T05:00:00\",\"2022-12-30T06:00:00\",\"2022-12-30T07:00:00\",\"2022-12-30T08:00:00\",\"2022-12-30T09:00:00\",\"2022-12-30T10:00:00\",\"2022-12-30T11:00:00\",\"2022-12-30T12:00:00\",\"2022-12-30T13:00:00\",\"2022-12-30T14:00:00\",\"2022-12-30T15:00:00\",\"2022-12-30T16:00:00\",\"2022-12-30T17:00:00\",\"2022-12-30T18:00:00\",\"2022-12-30T19:00:00\",\"2022-12-30T20:00:00\"],\"type\":\"candlestick\"},{\"line\":{\"color\":\"#009900\"},\"mode\":\"lines\",\"name\":\"indiactor\",\"x\":[\"2022-12-21T17:00:00\",\"2022-12-21T18:00:00\",\"2022-12-21T19:00:00\",\"2022-12-21T20:00:00\",\"2022-12-22T05:00:00\",\"2022-12-22T06:00:00\",\"2022-12-22T07:00:00\",\"2022-12-22T08:00:00\",\"2022-12-22T09:00:00\",\"2022-12-22T10:00:00\",\"2022-12-22T11:00:00\",\"2022-12-22T12:00:00\",\"2022-12-22T13:00:00\",\"2022-12-22T14:00:00\",\"2022-12-22T15:00:00\",\"2022-12-22T16:00:00\",\"2022-12-22T17:00:00\",\"2022-12-22T18:00:00\",\"2022-12-22T19:00:00\",\"2022-12-22T20:00:00\",\"2022-12-23T05:00:00\",\"2022-12-23T06:00:00\",\"2022-12-23T07:00:00\",\"2022-12-23T08:00:00\",\"2022-12-23T09:00:00\",\"2022-12-23T10:00:00\",\"2022-12-23T11:00:00\",\"2022-12-23T12:00:00\",\"2022-12-23T13:00:00\",\"2022-12-23T14:00:00\",\"2022-12-23T15:00:00\",\"2022-12-23T16:00:00\",\"2022-12-23T17:00:00\",\"2022-12-23T18:00:00\",\"2022-12-23T19:00:00\",\"2022-12-23T20:00:00\",\"2022-12-27T05:00:00\",\"2022-12-27T06:00:00\",\"2022-12-27T07:00:00\",\"2022-12-27T08:00:00\",\"2022-12-27T09:00:00\",\"2022-12-27T10:00:00\",\"2022-12-27T11:00:00\",\"2022-12-27T12:00:00\",\"2022-12-27T13:00:00\",\"2022-12-27T14:00:00\",\"2022-12-27T15:00:00\",\"2022-12-27T16:00:00\",\"2022-12-27T17:00:00\",\"2022-12-27T18:00:00\",\"2022-12-27T19:00:00\",\"2022-12-27T20:00:00\",\"2022-12-28T05:00:00\",\"2022-12-28T06:00:00\",\"2022-12-28T07:00:00\",\"2022-12-28T08:00:00\",\"2022-12-28T09:00:00\",\"2022-12-28T10:00:00\",\"2022-12-28T11:00:00\",\"2022-12-28T12:00:00\",\"2022-12-28T13:00:00\",\"2022-12-28T14:00:00\",\"2022-12-28T15:00:00\",\"2022-12-28T16:00:00\",\"2022-12-28T17:00:00\",\"2022-12-28T18:00:00\",\"2022-12-28T19:00:00\",\"2022-12-28T20:00:00\",\"2022-12-29T05:00:00\",\"2022-12-29T06:00:00\",\"2022-12-29T07:00:00\",\"2022-12-29T08:00:00\",\"2022-12-29T09:00:00\",\"2022-12-29T10:00:00\",\"2022-12-29T11:00:00\",\"2022-12-29T12:00:00\",\"2022-12-29T13:00:00\",\"2022-12-29T14:00:00\",\"2022-12-29T15:00:00\",\"2022-12-29T16:00:00\",\"2022-12-29T17:00:00\",\"2022-12-29T18:00:00\",\"2022-12-29T19:00:00\",\"2022-12-29T20:00:00\",\"2022-12-30T05:00:00\",\"2022-12-30T06:00:00\",\"2022-12-30T07:00:00\",\"2022-12-30T08:00:00\",\"2022-12-30T09:00:00\",\"2022-12-30T10:00:00\",\"2022-12-30T11:00:00\",\"2022-12-30T12:00:00\",\"2022-12-30T13:00:00\",\"2022-12-30T14:00:00\",\"2022-12-30T15:00:00\",\"2022-12-30T16:00:00\",\"2022-12-30T17:00:00\",\"2022-12-30T18:00:00\",\"2022-12-30T19:00:00\",\"2022-12-30T20:00:00\"],\"y\":[null,null,null,null,164.796,164.64600000000002,164.422,163.94400000000002,163.30200000000002,161.862,159.80199999999996,157.19199999999998,154.778,152.50261999999998,151.35262000000003,151.25662,151.69861999999998,152.22261999999998,152.828,152.87,152.65,152.768,152.71999999999997,152.78000000000003,152.974,152.488,151.90699999999998,151.60899999999998,151.276,150.9589,151.2969,151.5699,151.66989999999998,151.74062,151.89772,151.95372000000003,152.25572000000003,152.57372,152.778,152.67199999999997,152.474,150.9,149.34938,147.58182,145.97582,144.32282,143.45882,142.52543999999997,141.75097999999997,141.16698000000002,140.70398,140.41998,139.98198,140.122,140.256,140.452,140.486,140.8752,140.56536,140.37536,140.43336,140.66734000000002,140.56414,140.74598,140.80398000000002,140.54998,140.37800000000001,140.402,140.738,141.07800000000003,141.42799999999997,141.734,142.472,142.993,143.661,144.527,145.413,145.73000000000002,145.847,145.97299999999998,145.925,145.85899999999998,145.904,146.048,145.842,145.73999999999998,145.52,145.07,144.58200000000002,144.446,144.11903999999998,144.04944,144.28134,144.41334,144.35934000000003,144.7953,145.11240000000004,145.3865,145.8245,146.29450000000003],\"type\":\"scatter\"}],                        {\"template\":{\"data\":{\"histogram2dcontour\":[{\"type\":\"histogram2dcontour\",\"colorbar\":{\"outlinewidth\":0,\"ticks\":\"\"},\"colorscale\":[[0.0,\"#0d0887\"],[0.1111111111111111,\"#46039f\"],[0.2222222222222222,\"#7201a8\"],[0.3333333333333333,\"#9c179e\"],[0.4444444444444444,\"#bd3786\"],[0.5555555555555556,\"#d8576b\"],[0.6666666666666666,\"#ed7953\"],[0.7777777777777778,\"#fb9f3a\"],[0.8888888888888888,\"#fdca26\"],[1.0,\"#f0f921\"]]}],\"choropleth\":[{\"type\":\"choropleth\",\"colorbar\":{\"outlinewidth\":0,\"ticks\":\"\"}}],\"histogram2d\":[{\"type\":\"histogram2d\",\"colorbar\":{\"outlinewidth\":0,\"ticks\":\"\"},\"colorscale\":[[0.0,\"#0d0887\"],[0.1111111111111111,\"#46039f\"],[0.2222222222222222,\"#7201a8\"],[0.3333333333333333,\"#9c179e\"],[0.4444444444444444,\"#bd3786\"],[0.5555555555555556,\"#d8576b\"],[0.6666666666666666,\"#ed7953\"],[0.7777777777777778,\"#fb9f3a\"],[0.8888888888888888,\"#fdca26\"],[1.0,\"#f0f921\"]]}],\"heatmap\":[{\"type\":\"heatmap\",\"colorbar\":{\"outlinewidth\":0,\"ticks\":\"\"},\"colorscale\":[[0.0,\"#0d0887\"],[0.1111111111111111,\"#46039f\"],[0.2222222222222222,\"#7201a8\"],[0.3333333333333333,\"#9c179e\"],[0.4444444444444444,\"#bd3786\"],[0.5555555555555556,\"#d8576b\"],[0.6666666666666666,\"#ed7953\"],[0.7777777777777778,\"#fb9f3a\"],[0.8888888888888888,\"#fdca26\"],[1.0,\"#f0f921\"]]}],\"heatmapgl\":[{\"type\":\"heatmapgl\",\"colorbar\":{\"outlinewidth\":0,\"ticks\":\"\"},\"colorscale\":[[0.0,\"#0d0887\"],[0.1111111111111111,\"#46039f\"],[0.2222222222222222,\"#7201a8\"],[0.3333333333333333,\"#9c179e\"],[0.4444444444444444,\"#bd3786\"],[0.5555555555555556,\"#d8576b\"],[0.6666666666666666,\"#ed7953\"],[0.7777777777777778,\"#fb9f3a\"],[0.8888888888888888,\"#fdca26\"],[1.0,\"#f0f921\"]]}],\"contourcarpet\":[{\"type\":\"contourcarpet\",\"colorbar\":{\"outlinewidth\":0,\"ticks\":\"\"}}],\"contour\":[{\"type\":\"contour\",\"colorbar\":{\"outlinewidth\":0,\"ticks\":\"\"},\"colorscale\":[[0.0,\"#0d0887\"],[0.1111111111111111,\"#46039f\"],[0.2222222222222222,\"#7201a8\"],[0.3333333333333333,\"#9c179e\"],[0.4444444444444444,\"#bd3786\"],[0.5555555555555556,\"#d8576b\"],[0.6666666666666666,\"#ed7953\"],[0.7777777777777778,\"#fb9f3a\"],[0.8888888888888888,\"#fdca26\"],[1.0,\"#f0f921\"]]}],\"surface\":[{\"type\":\"surface\",\"colorbar\":{\"outlinewidth\":0,\"ticks\":\"\"},\"colorscale\":[[0.0,\"#0d0887\"],[0.1111111111111111,\"#46039f\"],[0.2222222222222222,\"#7201a8\"],[0.3333333333333333,\"#9c179e\"],[0.4444444444444444,\"#bd3786\"],[0.5555555555555556,\"#d8576b\"],[0.6666666666666666,\"#ed7953\"],[0.7777777777777778,\"#fb9f3a\"],[0.8888888888888888,\"#fdca26\"],[1.0,\"#f0f921\"]]}],\"mesh3d\":[{\"type\":\"mesh3d\",\"colorbar\":{\"outlinewidth\":0,\"ticks\":\"\"}}],\"scatter\":[{\"fillpattern\":{\"fillmode\":\"overlay\",\"size\":10,\"solidity\":0.2},\"type\":\"scatter\"}],\"parcoords\":[{\"type\":\"parcoords\",\"line\":{\"colorbar\":{\"outlinewidth\":0,\"ticks\":\"\"}}}],\"scatterpolargl\":[{\"type\":\"scatterpolargl\",\"marker\":{\"colorbar\":{\"outlinewidth\":0,\"ticks\":\"\"}}}],\"bar\":[{\"error_x\":{\"color\":\"#2a3f5f\"},\"error_y\":{\"color\":\"#2a3f5f\"},\"marker\":{\"line\":{\"color\":\"#E5ECF6\",\"width\":0.5},\"pattern\":{\"fillmode\":\"overlay\",\"size\":10,\"solidity\":0.2}},\"type\":\"bar\"}],\"scattergeo\":[{\"type\":\"scattergeo\",\"marker\":{\"colorbar\":{\"outlinewidth\":0,\"ticks\":\"\"}}}],\"scatterpolar\":[{\"type\":\"scatterpolar\",\"marker\":{\"colorbar\":{\"outlinewidth\":0,\"ticks\":\"\"}}}],\"histogram\":[{\"marker\":{\"pattern\":{\"fillmode\":\"overlay\",\"size\":10,\"solidity\":0.2}},\"type\":\"histogram\"}],\"scattergl\":[{\"type\":\"scattergl\",\"marker\":{\"colorbar\":{\"outlinewidth\":0,\"ticks\":\"\"}}}],\"scatter3d\":[{\"type\":\"scatter3d\",\"line\":{\"colorbar\":{\"outlinewidth\":0,\"ticks\":\"\"}},\"marker\":{\"colorbar\":{\"outlinewidth\":0,\"ticks\":\"\"}}}],\"scattermapbox\":[{\"type\":\"scattermapbox\",\"marker\":{\"colorbar\":{\"outlinewidth\":0,\"ticks\":\"\"}}}],\"scatterternary\":[{\"type\":\"scatterternary\",\"marker\":{\"colorbar\":{\"outlinewidth\":0,\"ticks\":\"\"}}}],\"scattercarpet\":[{\"type\":\"scattercarpet\",\"marker\":{\"colorbar\":{\"outlinewidth\":0,\"ticks\":\"\"}}}],\"carpet\":[{\"aaxis\":{\"endlinecolor\":\"#2a3f5f\",\"gridcolor\":\"white\",\"linecolor\":\"white\",\"minorgridcolor\":\"white\",\"startlinecolor\":\"#2a3f5f\"},\"baxis\":{\"endlinecolor\":\"#2a3f5f\",\"gridcolor\":\"white\",\"linecolor\":\"white\",\"minorgridcolor\":\"white\",\"startlinecolor\":\"#2a3f5f\"},\"type\":\"carpet\"}],\"table\":[{\"cells\":{\"fill\":{\"color\":\"#EBF0F8\"},\"line\":{\"color\":\"white\"}},\"header\":{\"fill\":{\"color\":\"#C8D4E3\"},\"line\":{\"color\":\"white\"}},\"type\":\"table\"}],\"barpolar\":[{\"marker\":{\"line\":{\"color\":\"#E5ECF6\",\"width\":0.5},\"pattern\":{\"fillmode\":\"overlay\",\"size\":10,\"solidity\":0.2}},\"type\":\"barpolar\"}],\"pie\":[{\"automargin\":true,\"type\":\"pie\"}]},\"layout\":{\"autotypenumbers\":\"strict\",\"colorway\":[\"#636efa\",\"#EF553B\",\"#00cc96\",\"#ab63fa\",\"#FFA15A\",\"#19d3f3\",\"#FF6692\",\"#B6E880\",\"#FF97FF\",\"#FECB52\"],\"font\":{\"color\":\"#2a3f5f\"},\"hovermode\":\"closest\",\"hoverlabel\":{\"align\":\"left\"},\"paper_bgcolor\":\"white\",\"plot_bgcolor\":\"#E5ECF6\",\"polar\":{\"bgcolor\":\"#E5ECF6\",\"angularaxis\":{\"gridcolor\":\"white\",\"linecolor\":\"white\",\"ticks\":\"\"},\"radialaxis\":{\"gridcolor\":\"white\",\"linecolor\":\"white\",\"ticks\":\"\"}},\"ternary\":{\"bgcolor\":\"#E5ECF6\",\"aaxis\":{\"gridcolor\":\"white\",\"linecolor\":\"white\",\"ticks\":\"\"},\"baxis\":{\"gridcolor\":\"white\",\"linecolor\":\"white\",\"ticks\":\"\"},\"caxis\":{\"gridcolor\":\"white\",\"linecolor\":\"white\",\"ticks\":\"\"}},\"coloraxis\":{\"colorbar\":{\"outlinewidth\":0,\"ticks\":\"\"}},\"colorscale\":{\"sequential\":[[0.0,\"#0d0887\"],[0.1111111111111111,\"#46039f\"],[0.2222222222222222,\"#7201a8\"],[0.3333333333333333,\"#9c179e\"],[0.4444444444444444,\"#bd3786\"],[0.5555555555555556,\"#d8576b\"],[0.6666666666666666,\"#ed7953\"],[0.7777777777777778,\"#fb9f3a\"],[0.8888888888888888,\"#fdca26\"],[1.0,\"#f0f921\"]],\"sequentialminus\":[[0.0,\"#0d0887\"],[0.1111111111111111,\"#46039f\"],[0.2222222222222222,\"#7201a8\"],[0.3333333333333333,\"#9c179e\"],[0.4444444444444444,\"#bd3786\"],[0.5555555555555556,\"#d8576b\"],[0.6666666666666666,\"#ed7953\"],[0.7777777777777778,\"#fb9f3a\"],[0.8888888888888888,\"#fdca26\"],[1.0,\"#f0f921\"]],\"diverging\":[[0,\"#8e0152\"],[0.1,\"#c51b7d\"],[0.2,\"#de77ae\"],[0.3,\"#f1b6da\"],[0.4,\"#fde0ef\"],[0.5,\"#f7f7f7\"],[0.6,\"#e6f5d0\"],[0.7,\"#b8e186\"],[0.8,\"#7fbc41\"],[0.9,\"#4d9221\"],[1,\"#276419\"]]},\"xaxis\":{\"gridcolor\":\"white\",\"linecolor\":\"white\",\"ticks\":\"\",\"title\":{\"standoff\":15},\"zerolinecolor\":\"white\",\"automargin\":true,\"zerolinewidth\":2},\"yaxis\":{\"gridcolor\":\"white\",\"linecolor\":\"white\",\"ticks\":\"\",\"title\":{\"standoff\":15},\"zerolinecolor\":\"white\",\"automargin\":true,\"zerolinewidth\":2},\"scene\":{\"xaxis\":{\"backgroundcolor\":\"#E5ECF6\",\"gridcolor\":\"white\",\"linecolor\":\"white\",\"showbackground\":true,\"ticks\":\"\",\"zerolinecolor\":\"white\",\"gridwidth\":2},\"yaxis\":{\"backgroundcolor\":\"#E5ECF6\",\"gridcolor\":\"white\",\"linecolor\":\"white\",\"showbackground\":true,\"ticks\":\"\",\"zerolinecolor\":\"white\",\"gridwidth\":2},\"zaxis\":{\"backgroundcolor\":\"#E5ECF6\",\"gridcolor\":\"white\",\"linecolor\":\"white\",\"showbackground\":true,\"ticks\":\"\",\"zerolinecolor\":\"white\",\"gridwidth\":2}},\"shapedefaults\":{\"line\":{\"color\":\"#2a3f5f\"}},\"annotationdefaults\":{\"arrowcolor\":\"#2a3f5f\",\"arrowhead\":0,\"arrowwidth\":1},\"geo\":{\"bgcolor\":\"white\",\"landcolor\":\"#E5ECF6\",\"subunitcolor\":\"white\",\"showland\":true,\"showlakes\":true,\"lakecolor\":\"white\"},\"title\":{\"x\":0.05},\"mapbox\":{\"style\":\"light\"}}}},                        {\"responsive\": true}                    ).then(function(){\n",
       "                            \n",
       "var gd = document.getElementById('6abae0ad-7fdb-44f8-a400-079a0af65eae');\n",
       "var x = new MutationObserver(function (mutations, observer) {{\n",
       "        var display = window.getComputedStyle(gd).display;\n",
       "        if (!display || display === 'none') {{\n",
       "            console.log([gd, 'removed!']);\n",
       "            Plotly.purge(gd);\n",
       "            observer.disconnect();\n",
       "        }}\n",
       "}});\n",
       "\n",
       "// Listen for the removal of the full notebook cells\n",
       "var notebookContainer = gd.closest('#notebook-container');\n",
       "if (notebookContainer) {{\n",
       "    x.observe(notebookContainer, {childList: true});\n",
       "}}\n",
       "\n",
       "// Listen for the clearing of the current output cell\n",
       "var outputEl = gd.closest('.output');\n",
       "if (outputEl) {{\n",
       "    x.observe(outputEl, {childList: true});\n",
       "}}\n",
       "\n",
       "                        })                };                });            </script>        </div>"
      ]
     },
     "metadata": {},
     "output_type": "display_data"
    }
   ],
   "source": [
    "strategy.plot_candlestick()"
   ]
  },
  {
   "cell_type": "code",
   "execution_count": null,
   "id": "3fa267ec",
   "metadata": {},
   "outputs": [],
   "source": []
  }
 ],
 "metadata": {
  "kernelspec": {
   "display_name": "Python 3 (ipykernel)",
   "language": "python",
   "name": "python3"
  },
  "language_info": {
   "codemirror_mode": {
    "name": "ipython",
    "version": 3
   },
   "file_extension": ".py",
   "mimetype": "text/x-python",
   "name": "python",
   "nbconvert_exporter": "python",
   "pygments_lexer": "ipython3",
   "version": "3.8.0"
  }
 },
 "nbformat": 4,
 "nbformat_minor": 5
}
